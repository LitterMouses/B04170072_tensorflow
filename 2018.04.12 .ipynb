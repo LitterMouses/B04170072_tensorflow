{
 "cells": [
  {
   "cell_type": "code",
   "execution_count": 12,
   "metadata": {},
   "outputs": [
    {
     "name": "stdout",
     "output_type": "stream",
     "text": [
      "[0 0 0 0 0 0 0 0 0 0 0 0 0 0 0 0 0 0 0 0 0 0 0 0 0 0 0 0 0 0 0 0 0 0 0 0 0\n",
      " 0 0 0 0 0 0 0 0 0 0 0 0 0 1 1 1 1 1 1 1 1 1 1 1 1 1 1 1 1 1 1 1 1 1 1 1 1\n",
      " 1 1 1 1 1 1 1 1 1 1 1 1 1 1 1 1 1 1 1 1 1 1 1 1 1 1 2 2 2 2 2 2 2 2 2 2 2\n",
      " 2 2 2 2 2 2 2 2 2 2 2 2 2 2 2 2 2 2 2 2 2 2 2 2 2 2 2 2 2 2 2 2 2 2 2 2 2\n",
      " 2 2]\n",
      "[1 1 1 1 1 1 1 1 1 1 1 1 1 1 1 1 1 1 1 1 1 1 1 1 1 1 1 1 1 1 1 1 1 1 1 1 1\n",
      " 1 1 1 1 1 1 1 1 1 1 1 1 1 0 0 2 0 0 0 0 0 0 0 0 0 0 0 0 0 0 0 0 0 0 0 0 0\n",
      " 0 0 0 2 0 0 0 0 0 0 0 0 0 0 0 0 0 0 0 0 0 0 0 0 0 0 2 0 2 2 2 2 0 2 2 2 2\n",
      " 2 2 0 0 2 2 2 2 0 2 0 2 0 2 2 0 0 2 2 2 2 2 0 2 2 2 2 0 2 2 2 0 2 2 2 0 2\n",
      " 2 0]\n",
      "0.552591944521\n"
     ]
    }
   ],
   "source": [
    "from sklearn import datasets, cluster, metrics\n",
    "iris = datasets.load_iris()\n",
    "#print(iris[\"DESCR\"])#資料集描述資料\n",
    "#print(iris[\"feature_names\"])#資料集攔位名稱\n",
    "#print(iris[\"data\"])#資料集的資料\n",
    "print(iris[\"target\"])#資料集的分類結果\n",
    "iris_kmeans=cluster.KMeans(n_clusters=3).fit(iris[\"data\"])\n",
    "print(iris_kmeans.labels_)\n",
    "silhouette_avg=metrics.silhouette_score(iris[\"data\"], iris_kmeans.labels_)\n",
    "print(silhouette_avg)"
   ]
  },
  {
   "cell_type": "code",
   "execution_count": 15,
   "metadata": {},
   "outputs": [
    {
     "data": {
      "image/png": "[encoded data removed]",
      "text/plain": [
       "<matplotlib.figure.Figure at 0xd2e74a8>"
      ]
     },
     "metadata": {},
     "output_type": "display_data"
    }
   ],
   "source": [
    "from sklearn import datasets, cluster, metrics\n",
    "import matplotlib.pyplot as plt\n",
    "iris = datasets.load_iris()\n",
    "silhouette_avgs=[]\n",
    "ks=range(2,10)\n",
    "for k in ks:\n",
    "    iris_kmeans=cluster.KMeans(n_clusters=k).fit(iris[\"data\"])\n",
    "    silhouette_avg=metrics.silhouette_score(iris[\"data\"], iris_kmeans.labels_)\n",
    "    silhouette_avgs.append(silhouette_avg)\n",
    "plt.bar(ks,silhouette_avgs)\n",
    "plt.show()"
   ]
  },
  {
   "cell_type": "code",
   "execution_count": 10,
   "metadata": {},
   "outputs": [
    {
     "name": "stderr",
     "output_type": "stream",
     "text": [
      "C:\\ProgramData\\Anaconda3\\lib\\site-packages\\matplotlib\\cbook\\deprecation.py:106: MatplotlibDeprecationWarning: Adding an axes using the same arguments as a previous axes currently reuses the earlier instance.  In a future version, a new instance will always be created and returned.  Meanwhile, this warning can be suppressed, and the future behavior ensured, by passing a unique label to each axes instance.\n",
      "  warnings.warn(message, mplDeprecation, stacklevel=1)\n"
     ]
    },
    {
     "data": {
      "image/png": "[encoded data removed]",
      "text/plain": [
       "<matplotlib.figure.Figure at 0x9196828>"
      ]
     },
     "metadata": {},
     "output_type": "display_data"
    }
   ],
   "source": [
    "from sklearn import datasets, svm\n",
    "from sklearn.cross_validation import train_test_split\n",
    "import matplotlib.pyplot as plt\n",
    "digits=datasets.load_digits()\n",
    "x_train, x_test, y_train, y_test, image_train, image_test= train_test_split(digits.data, digits.target,digits.images, test_size=0.25, random_state=42)\n",
    "svc_model=svm.SVC(gamma=0.01, C=100, kernel='linear')\n",
    "svc_model.fit(x_train, y_train)\n",
    "predicted=svc_model.predict(x_test)\n",
    "images_and_predictions = list(zip(image_test, predicted))\n",
    "for index, (image, prediction) in enumerate(images_and_predictions[:4]):\n",
    "    plt.subplot(1, 4, index + 1)\n",
    "    plt.axis('off')\n",
    "    plt.imshow(image, cmap=plt.cm.binary)\n",
    "    plt.title('Predicted: ' + str(prediction))\n",
    "plt.show()\n",
    "\n",
    "\n",
    "#print(digits[\"DESCR\"])\n",
    "#print(digits[\"data\"])\n",
    "#print(digits[\"target\"])\n",
    "#plt.figure(1,figsize=(3,3))#第一張圖,大小3*3\n",
    "#plt.imshow(digits.images[0],cmap=plt.cm.gray_r, interpolation='nearest')#圖片,顏色(灰階)\n",
    "#plt.show()"
   ]
  },
  {
   "cell_type": "markdown",
   "metadata": {
    "collapsed": true
   },
   "source": []
  }
 ],
 "metadata": {
  "kernelspec": {
   "display_name": "Python 3",
   "language": "python",
   "name": "python3"
  },
  "language_info": {
   "codemirror_mode": {
    "name": "ipython",
    "version": 3
   },
   "file_extension": ".py",
   "mimetype": "text/x-python",
   "name": "python",
   "nbconvert_exporter": "python",
   "pygments_lexer": "ipython3",
   "version": "3.6.3"
  }
 },
 "nbformat": 4,
 "nbformat_minor": 2
}
